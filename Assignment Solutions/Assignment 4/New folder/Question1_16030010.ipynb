{
 "cells": [
  {
   "cell_type": "code",
   "execution_count": 117,
   "metadata": {
    "collapsed": true
   },
   "outputs": [],
   "source": [
    "import operator\n",
    "from collections import Counter\n",
    "import matplotlib.pyplot as plt\n",
    "import numpy\n",
    "import matplotlib.pyplot as plt\n",
    "import numpy as np\n",
    "import random\n",
    "from sklearn import datasets, linear_model\n",
    "from sklearn.metrics import mean_squared_error, r2_score\n",
    "import pandas as pd\n",
    "import sys\n",
    "import random\n",
    "from numpy import random\n",
    "from random import randint\n",
    "import math\n",
    "import numpy as np;\n",
    "from sklearn.cross_validation import train_test_split\n",
    "from sklearn.tree import DecisionTreeClassifier\n",
    "from sklearn.metrics import accuracy_score\n",
    "from sklearn import tree\n",
    "from sklearn import svm\n",
    "from sklearn.metrics import precision_score\n",
    "from sklearn.model_selection import cross_validate\n",
    "from sklearn.model_selection import cross_val_score\n",
    "from sklearn.metrics import recall_score\n",
    "from sklearn.cross_validation import train_test_split\n",
    "from sklearn import preprocessing\n",
    "from sklearn.tree import DecisionTreeClassifier, export_graphviz\n",
    "import collections\n",
    "\n",
    "\n",
    "def loadSplitTrainSetData(split, trainingSet , testSet, training_exm=105):\n",
    "    c1 = 0\n",
    "    c2 = 0\n",
    "    c3 = 0\n",
    "    count = 0\n",
    "    with open(\"irisdata.csv\") as csvfile:\n",
    "        lines = csv.reader(csvfile)\n",
    "        dataset = list(lines)\n",
    "        clses = []\n",
    "        for x in range(len(dataset)-1):\n",
    "            dt_cls = dataset[x][4]\n",
    "            if dt_cls in clses:\n",
    "                do_nothing = ''\n",
    "            else:\n",
    "                clses.append(dt_cls)\n",
    "        for x in range(len(dataset)):\n",
    "            count = (count + 1);\n",
    "            rand_int = randint(1, len(dataset)-2)\n",
    "            if (dataset[rand_int][4]) == clses[0] and c1 < 15:\n",
    "                c1 += 1\n",
    "                testSet.append(dataset[rand_int])\n",
    "            elif(dataset[rand_int][4]) == clses[1] and c2 < 15:\n",
    "                c2 += 1\n",
    "                testSet.append(dataset[rand_int])\n",
    "            elif(dataset[rand_int][4]) == clses[2] and c3 < 15:\n",
    "                c3 += 1\n",
    "                testSet.append(dataset[rand_int])\n",
    "            else:\n",
    "                trainingSet.append(dataset[x])\n",
    "        trainingSet =random.choice(trainingSet, training_exm)\n",
    "\n",
    "        clses1 = []\n",
    "        for x in range(len(testSet)-1):\n",
    "            clses1.append(testSet[x][4])"
   ]
  },
  {
   "cell_type": "code",
   "execution_count": 123,
   "metadata": {
    "collapsed": true
   },
   "outputs": [],
   "source": [
    "def trainingfor30(k):\n",
    "    trainingSet=[]\n",
    "    testSet=[]\n",
    "    testing = 45.0\n",
    "    total = 150.0\n",
    "    training = total - testing\n",
    "    split = training/total\n",
    "    loadSplitTrainSetData(split, trainingSet, testSet, 30)\n",
    "    predictions=[]\n",
    "    for x in range(len(testSet)):\n",
    "        neighbors = seeNeigbors(trainingSet, testSet[x], k)\n",
    "        result = rpsn(neighbors)\n",
    "        predictions.append(result)\n",
    "    accuracy = getAcc(testSet, predictions)\n",
    "    print('Accuracy n = 30')\n",
    "    print('K = '+str(k))\n",
    "    print(round(accuracy,2))   \n",
    "\n",
    "def trainingfor90(k):\n",
    "    trainingSet=[]\n",
    "    testSet=[]\n",
    "    testing = 45.0\n",
    "    total = 150.0\n",
    "    training = total - testing\n",
    "    split = training/total\n",
    "    loadSplitTrainSetData(split, trainingSet, testSet, 90)\n",
    "    predictions=[]\n",
    "    for x in range(len(testSet)):\n",
    "        neighbors = seeNeigbors(trainingSet, testSet[x], k)\n",
    "        result = rpsn(neighbors)\n",
    "        predictions.append(result)\n",
    "    accuracy = getAcc(testSet, predictions)\n",
    "    print('Accuracy n = 90')\n",
    "    print('K = '+str(k))\n",
    "    print(round(accuracy,2))   \n",
    "\n",
    "def trainingfor105(k):\n",
    "    trainingSet=[]\n",
    "    testSet=[]\n",
    "    testing = 45.0\n",
    "    total = 150.0\n",
    "    training = total - testing\n",
    "    split = training/total\n",
    "    loadSplitTrainSetData(split, trainingSet, testSet, 105)\n",
    "    predictions=[]\n",
    "    for x in range(len(testSet)):\n",
    "        neighbors = seeNeigbors(trainingSet, testSet[x], k)\n",
    "        result = rpsn(neighbors)\n",
    "        predictions.append(result)\n",
    "    accuracy = getAcc(testSet, predictions)\n",
    "    print('Accuracy n = 105')\n",
    "    print('K = '+str(k))\n",
    "    print(round(accuracy,2))   \n"
   ]
  },
  {
   "cell_type": "code",
   "execution_count": 124,
   "metadata": {
    "collapsed": true
   },
   "outputs": [],
   "source": [
    "def getAcc(testSet, predictions):\n",
    "    correct = 0\n",
    "    for x in range(len(testSet)):\n",
    "        if testSet[x][-1] == predictions[x]:\n",
    "            correct += 1\n",
    "    return (correct/float(len(testSet))) * 100.0\n",
    "    return accuracy"
   ]
  },
  {
   "cell_type": "code",
   "execution_count": 125,
   "metadata": {
    "collapsed": true
   },
   "outputs": [],
   "source": [
    "def Distance(instance1, instance2, inst_length):\n",
    "    distance = 0\n",
    "    if len(instance2)>0 and len(instance1)>0:\n",
    "        for x in range(inst_length):\n",
    "            distance += pow((float(instance1[x]) - float(instance2[x])), 2)\n",
    "    dist = math.sqrt(distance)\n",
    "    return dist"
   ]
  },
  {
   "cell_type": "code",
   "execution_count": 126,
   "metadata": {
    "collapsed": true
   },
   "outputs": [],
   "source": [
    "def seeNeigbors(trainingSet, testInstance, k):\n",
    "    distances = []\n",
    "    length = len(testInstance)-1\n",
    "    for x in range(len(trainingSet)):\n",
    "        dist = Distance(testInstance, trainingSet[x], length)\n",
    "        distances.append((trainingSet[x], dist))\n",
    "    distances.sort(key=operator.itemgetter(1))\n",
    "    neighbors = []\n",
    "    for x in range(k):\n",
    "        neighbors.append(distances[x][0])\n",
    "    return neighbors\n"
   ]
  },
  {
   "cell_type": "code",
   "execution_count": 127,
   "metadata": {
    "collapsed": true
   },
   "outputs": [],
   "source": [
    "def rpsn(neighbors):\n",
    "    classVotes = {}\n",
    "    for x in range(len(neighbors)):\n",
    "        if len(neighbors[x]) > 0:\n",
    "            response = neighbors[x][-1]\n",
    "            if response in classVotes:\n",
    "                classVotes[response] += 1\n",
    "            else:\n",
    "                classVotes[response] = 1\n",
    "    sortedVotes = sorted(classVotes.items(), key=operator.itemgetter(1), reverse=True)\n",
    "    if len(sortedVotes)>0:\n",
    "        return sortedVotes[0][0]\n"
   ]
  },
  {
   "cell_type": "code",
   "execution_count": 129,
   "metadata": {},
   "outputs": [
    {
     "name": "stdout",
     "output_type": "stream",
     "text": [
      "Accuracy n = 30\n",
      "K = 3\n",
      "100.0\n",
      "Accuracy n = 90\n",
      "K = 3\n",
      "100.0\n",
      "Accuracy n = 105\n",
      "K = 3\n",
      "100.0\n",
      "Accuracy n = 30\n",
      "K = 7\n",
      "100.0\n",
      "Accuracy n = 90\n",
      "K = 7\n",
      "97.78\n",
      "Accuracy n = 105\n",
      "K = 7\n",
      "97.78\n",
      "Accuracy n = 30\n",
      "K = 9\n",
      "95.56\n",
      "Accuracy n = 90\n",
      "K = 9\n",
      "97.78\n",
      "Accuracy n = 105\n",
      "K = 9\n",
      "95.56\n"
     ]
    }
   ],
   "source": [
    "    \n",
    "trainingfor30(3)\n",
    "trainingfor90(3)\n",
    "trainingfor105(3)\n",
    "trainingfor30(7)\n",
    "trainingfor90(7)\n",
    "trainingfor105(7)\n",
    "trainingfor30(9)\n",
    "trainingfor90(9)\n",
    "trainingfor105(9)"
   ]
  },
  {
   "cell_type": "code",
   "execution_count": null,
   "metadata": {
    "collapsed": true
   },
   "outputs": [],
   "source": []
  }
 ],
 "metadata": {
  "kernelspec": {
   "display_name": "Python 3",
   "language": "python",
   "name": "python3"
  },
  "language_info": {
   "codemirror_mode": {
    "name": "ipython",
    "version": 3
   },
   "file_extension": ".py",
   "mimetype": "text/x-python",
   "name": "python",
   "nbconvert_exporter": "python",
   "pygments_lexer": "ipython3",
   "version": "3.6.2"
  }
 },
 "nbformat": 4,
 "nbformat_minor": 2
}
