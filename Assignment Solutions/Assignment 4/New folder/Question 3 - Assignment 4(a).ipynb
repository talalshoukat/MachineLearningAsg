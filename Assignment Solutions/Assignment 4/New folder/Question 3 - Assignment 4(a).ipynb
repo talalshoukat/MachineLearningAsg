{
 "cells": [
  {
   "cell_type": "code",
   "execution_count": 4,
   "metadata": {},
   "outputs": [
    {
     "name": "stdout",
     "output_type": "stream",
     "text": [
      "Mean Square Error\n",
      "5.881925072430095\n",
      "Confidence\n",
      "0.200137867354 1.19729665869\n",
      "Mean Square Error\n",
      "0.6596604608882048\n",
      "Confidence\n",
      "0.235547096943 0.395059212174\n",
      "Variance\n",
      "0.332349008428\n"
     ]
    },
    {
     "data": {
      "text/plain": [
       "(0.89125093813374556, 11.220184543019636)"
      ]
     },
     "execution_count": 4,
     "metadata": {},
     "output_type": "execute_result"
    }
   ],
   "source": [
    "import matplotlib.pyplot as plt\n",
    "import numpy as np\n",
    "from sklearn import datasets, linear_model\n",
    "from sklearn.metrics import mean_squared_error, r2_score\n",
    "import pandas as pd\n",
    "from math import sqrt\n",
    "import numpy as np;\n",
    "from sklearn.cross_validation import train_test_split\n",
    "from sklearn.tree import DecisionTreeClassifier\n",
    "from sklearn.metrics import accuracy_score\n",
    "from sklearn import tree\n",
    "from sklearn import svm\n",
    "from sklearn.metrics import precision_score\n",
    "from sklearn.model_selection import cross_validate\n",
    "from sklearn.model_selection import cross_val_score\n",
    "from sklearn.metrics import recall_score\n",
    "from sklearn import datasets, linear_model\n",
    "from sklearn.model_selection import cross_val_predict,cross_val_score\n",
    "from sklearn.cross_validation import train_test_split\n",
    "from sklearn import preprocessing\n",
    "from sklearn.metrics import mean_squared_error, r2_score,explained_variance_score\n",
    "from sklearn.tree import DecisionTreeClassifier, export_graphviz\n",
    "import collections\n",
    "\n",
    "# Load the boston dataset\n",
    "df_X = pd.read_csv(\"boston_X.csv\")\n",
    "df_Y = pd.read_csv(\"boston_Y.csv\")\n",
    "\n",
    "# Create linear regression object\n",
    "regr = linear_model.LinearRegression()\n",
    "\n",
    "#cvp = cross_val_score(regr, df_X, df_Y, cv=10 )\n",
    "cvp = cross_val_predict(regr, df_X, df_Y, cv=10 )\n",
    "\n",
    "print(\"Mean Square Error\")\n",
    "print(sqrt(mean_squared_error(cvp, df_Y)))\n",
    "\n",
    "scores = cross_val_score(regr, df_X, df_Y, cv=10)\n",
    "\n",
    "print(\"Confidence\")\n",
    "print(scores.mean(), scores.std() * 2)\n",
    "\n",
    "var = explained_variance_score(df_Y, cvp) \n",
    "\n",
    "\n",
    "# Load the wine dataset\n",
    "wine = pd.read_csv('winequality-red.csv',sep=';') \n",
    "\n",
    "#print(wine)\n",
    "\n",
    "wine_x=wine[wine.columns[:11]]\n",
    "wine_y=wine[wine.columns[11]]\n",
    "pred = cross_val_predict(regr, wine_x, wine_y, cv=10)\n",
    "\n",
    "print(\"Mean Square Error\")\n",
    "print(sqrt(mean_squared_error(pred, wine_y)))\n",
    "\n",
    "\n",
    "scores = cross_val_score(regr, wine_x, wine_y, cv=10)\n",
    "print(\"Confidence\")\n",
    "print(scores.mean(), scores.std() * 2)\n",
    "\n",
    "print(\"Variance\")\n",
    "var=explained_variance_score(wine_y, pred) \n",
    "print((var))\n",
    "\n",
    "ax = plt.gca()\n",
    "ax.set_xscale('log')\n",
    "ax.set_xlim(ax.get_xlim()[::-1])  \n",
    "\n",
    "# # Train the model using the training sets\n",
    "# regr.fit(diabetes_X_train, diabetes_y_train)\n",
    "\n",
    "# # Make predictions using the testing set\n",
    "# diabetes_y_pred = regr.predict(diabetes_X_test)\n",
    "\n",
    "# # The coefficients\n",
    "# print('Coefficients: \\n', regr.coef_)\n",
    "# # The mean squared error\n",
    "# print(\"Mean squared error: %.2f\"\n",
    "#       % mean_squared_error(diabetes_y_test, diabetes_y_pred))\n",
    "# # Explained variance score: 1 is perfect prediction\n",
    "# print('Variance score: %.2f' % r2_score(diabetes_y_test, diabetes_y_pred))\n",
    "\n",
    "# # Plot outputs\n",
    "# plt.scatter(diabetes_X_test, diabetes_y_test,  color='black')\n",
    "# plt.plot(diabetes_X_test, diabetes_y_pred, color='blue', linewidth=3)\n",
    "\n",
    "# plt.xticks(())\n",
    "# plt.yticks(())\n",
    "\n",
    "# plt.show()"
   ]
  },
  {
   "cell_type": "code",
   "execution_count": null,
   "metadata": {
    "collapsed": true
   },
   "outputs": [],
   "source": []
  }
 ],
 "metadata": {
  "kernelspec": {
   "display_name": "Python 3",
   "language": "python",
   "name": "python3"
  },
  "language_info": {
   "codemirror_mode": {
    "name": "ipython",
    "version": 3
   },
   "file_extension": ".py",
   "mimetype": "text/x-python",
   "name": "python",
   "nbconvert_exporter": "python",
   "pygments_lexer": "ipython3",
   "version": "3.6.2"
  }
 },
 "nbformat": 4,
 "nbformat_minor": 2
}
