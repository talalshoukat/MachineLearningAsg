{
 "cells": [
  {
   "cell_type": "code",
   "execution_count": 1,
   "metadata": {},
   "outputs": [
    {
     "name": "stderr",
     "output_type": "stream",
     "text": [
      "Using TensorFlow backend.\n"
     ]
    }
   ],
   "source": [
    "import pandas as pd\n",
    "import numpy as np\n",
    "from keras.layers import Dense"
   ]
  },
  {
   "cell_type": "code",
   "execution_count": 2,
   "metadata": {
    "collapsed": true
   },
   "outputs": [],
   "source": [
    "# If you want to concetenate two variables please see \n",
    "\n",
    "#np.vstack and np.concatenate\n",
    "# https://docs.scipy.org/doc/numpy-1.13.0/reference/generated/numpy.concatenate.html\n",
    "# https://docs.scipy.org/doc/numpy-1.13.0/reference/generated/numpy.vstack.html\n",
    "# Hint: vstack and concatenate will help you to merge multiple parts of data into a single variable\n",
    "#If you have a dataframe opened in padas, let's say data = pd.read_csv('abc.csv', sep = ','),\n",
    "# you can convert it into numpy array by data_array = np.array(data)\n",
    "# We have just imported Dense layer from keras, You will also need to import convolutional layers, MaxPooling layers or may \n",
    "# require to import Flatten and Reshape layer as well. Please see documentation at\n",
    "# https://keras.io/\n",
    "\n",
    "# Read Dataset Here\n",
    "\n"
   ]
  },
  {
   "cell_type": "code",
   "execution_count": 3,
   "metadata": {
    "collapsed": true
   },
   "outputs": [],
   "source": [
    "# Your Model Definition goes here\n",
    "\n"
   ]
  },
  {
   "cell_type": "code",
   "execution_count": 4,
   "metadata": {
    "collapsed": true
   },
   "outputs": [],
   "source": [
    "# Model Compilation goes here\n",
    "\n"
   ]
  },
  {
   "cell_type": "code",
   "execution_count": 5,
   "metadata": {
    "collapsed": true
   },
   "outputs": [],
   "source": [
    "# Fit your model here. Use test split as validation for questions 1-4 and report it's accuracies for every epoch\n",
    "# for last question, use validation split as instrcuted and save test split to test after loading best weights\n",
    "# If your model goes out of memory, please try to reduce batch_size in model.fit. Also see callbacks on keras documentation\n",
    "# to see how to do early stopping and save best weights based on validation split.\n",
    "\n"
   ]
  },
  {
   "cell_type": "code",
   "execution_count": null,
   "metadata": {
    "collapsed": true
   },
   "outputs": [],
   "source": [
    "# Test your model here by loading best weights learned during training for last part only.\n",
    "\n"
   ]
  }
 ],
 "metadata": {
  "kernelspec": {
   "display_name": "Python 3",
   "language": "python",
   "name": "python3"
  },
  "language_info": {
   "codemirror_mode": {
    "name": "ipython",
    "version": 3
   },
   "file_extension": ".py",
   "mimetype": "text/x-python",
   "name": "python",
   "nbconvert_exporter": "python",
   "pygments_lexer": "ipython3",
   "version": "3.6.2"
  }
 },
 "nbformat": 4,
 "nbformat_minor": 2
}
